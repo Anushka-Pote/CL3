{
 "cells": [
  {
   "cell_type": "code",
   "execution_count": 11,
   "id": "99c0bb28-409f-434e-812c-5ce787bef6ce",
   "metadata": {},
   "outputs": [],
   "source": [
    "#Implemented the artificial immune pattern recognition to perform a task of structure damage Classification . "
   ]
  },
  {
   "cell_type": "code",
   "execution_count": 12,
   "id": "1a0201ad-0abf-4c05-80bb-89889cd6afe3",
   "metadata": {},
   "outputs": [
    {
     "name": "stdout",
     "output_type": "stream",
     "text": [
      "Requirement already satisfied: scikit-learn in c:\\users\\dell\\anaconda3\\lib\\site-packages (1.6.1)"
     ]
    },
    {
     "name": "stderr",
     "output_type": "stream",
     "text": [
      "\n",
      "[notice] A new release of pip is available: 24.3.1 -> 25.0.1\n",
      "[notice] To update, run: python.exe -m pip install --upgrade pip\n"
     ]
    },
    {
     "name": "stdout",
     "output_type": "stream",
     "text": [
      "\n",
      "Requirement already satisfied: numpy in c:\\users\\dell\\anaconda3\\lib\\site-packages (1.26.4)\n",
      "Requirement already satisfied: matplotlib in c:\\users\\dell\\anaconda3\\lib\\site-packages (3.8.4)\n",
      "Requirement already satisfied: scipy>=1.6.0 in c:\\users\\dell\\anaconda3\\lib\\site-packages (from scikit-learn) (1.13.1)\n",
      "Requirement already satisfied: joblib>=1.2.0 in c:\\users\\dell\\anaconda3\\lib\\site-packages (from scikit-learn) (1.4.2)\n",
      "Requirement already satisfied: threadpoolctl>=3.1.0 in c:\\users\\dell\\anaconda3\\lib\\site-packages (from scikit-learn) (3.5.0)\n",
      "Requirement already satisfied: contourpy>=1.0.1 in c:\\users\\dell\\anaconda3\\lib\\site-packages (from matplotlib) (1.2.0)\n",
      "Requirement already satisfied: cycler>=0.10 in c:\\users\\dell\\anaconda3\\lib\\site-packages (from matplotlib) (0.11.0)\n",
      "Requirement already satisfied: fonttools>=4.22.0 in c:\\users\\dell\\anaconda3\\lib\\site-packages (from matplotlib) (4.51.0)\n",
      "Requirement already satisfied: kiwisolver>=1.3.1 in c:\\users\\dell\\anaconda3\\lib\\site-packages (from matplotlib) (1.4.4)\n",
      "Requirement already satisfied: packaging>=20.0 in c:\\users\\dell\\anaconda3\\lib\\site-packages (from matplotlib) (23.2)\n",
      "Requirement already satisfied: pillow>=8 in c:\\users\\dell\\anaconda3\\lib\\site-packages (from matplotlib) (10.3.0)\n",
      "Requirement already satisfied: pyparsing>=2.3.1 in c:\\users\\dell\\anaconda3\\lib\\site-packages (from matplotlib) (3.0.9)\n",
      "Requirement already satisfied: python-dateutil>=2.7 in c:\\users\\dell\\anaconda3\\lib\\site-packages (from matplotlib) (2.9.0.post0)\n",
      "Requirement already satisfied: six>=1.5 in c:\\users\\dell\\anaconda3\\lib\\site-packages (from python-dateutil>=2.7->matplotlib) (1.16.0)\n"
     ]
    }
   ],
   "source": [
    "!pip install scikit-learn numpy matplotlib"
   ]
  },
  {
   "cell_type": "code",
   "execution_count": 14,
   "id": "1b6942b4-c367-496d-ad7f-9f6b80392506",
   "metadata": {},
   "outputs": [],
   "source": [
    "import numpy as np\n",
    "import matplotlib.pyplot as plt\n",
    "from sklearn.datasets import make_classification\n",
    "from sklearn.model_selection import train_test_split\n",
    "from sklearn.metrics import accuracy_score, confusion_matrix"
   ]
  },
  {
   "cell_type": "code",
   "execution_count": 17,
   "id": "785cab54-f5e6-4e34-ac65-fb7f8177a4a6",
   "metadata": {},
   "outputs": [],
   "source": [
    "# Simulate a dataset: 0 = No Damage, 1 = Damage\n",
    "X, y = make_classification(n_samples=500, n_features=10, n_informative=6,\n",
    "                           n_redundant=2, n_classes=2, random_state=42)\n",
    "\n",
    "# Train-test split\n",
    "X_train, X_test, y_train, y_test = train_test_split(X, y, test_size=0.2, random_state=42)"
   ]
  },
  {
   "cell_type": "code",
   "execution_count": 20,
   "id": "696f677c-184a-4dc0-8c51-77ceb7e24583",
   "metadata": {},
   "outputs": [
    {
     "name": "stdout",
     "output_type": "stream",
     "text": [
      "Test Accuracy: 0.87\n",
      "Confusion Matrix:\n",
      " [[35  2]\n",
      " [11 52]]\n"
     ]
    }
   ],
   "source": [
    "from sklearn.base import BaseEstimator, ClassifierMixin\n",
    "\n",
    "class ArtificialImmuneClassifier(BaseEstimator, ClassifierMixin):\n",
    "    def __init__(self, n_clones=5, mutation_rate=0.1, n_generations=10):\n",
    "        self.n_clones = n_clones\n",
    "        self.mutation_rate = mutation_rate\n",
    "        self.n_generations = n_generations\n",
    "        self.memory_cells = []\n",
    "\n",
    "    def _affinity(self, antibody, antigen):\n",
    "        return -np.linalg.norm(antibody['vector'] - antigen)\n",
    "\n",
    "    def fit(self, X, y):\n",
    "        self.memory_cells = [{'vector': x, 'label': label} for x, label in zip(X, y)]\n",
    "\n",
    "        for gen in range(self.n_generations):\n",
    "            new_memory = []\n",
    "            for antigen, label in zip(X, y):\n",
    "                # Select best match (BMU)\n",
    "                bmu = max(self.memory_cells, key=lambda ab: self._affinity(ab, antigen))\n",
    "                clones = [dict(bmu) for _ in range(self.n_clones)]\n",
    "\n",
    "                # Hypermutation\n",
    "                for clone in clones:\n",
    "                    noise = np.random.normal(0, self.mutation_rate, size=antigen.shape)\n",
    "                    clone['vector'] += noise\n",
    "\n",
    "                # Evaluate clones\n",
    "                best_clone = max(clones, key=lambda ab: -np.linalg.norm(ab['vector'] - antigen))\n",
    "\n",
    "                # Add if improved match\n",
    "                if self._affinity(best_clone, antigen) > self._affinity(bmu, antigen):\n",
    "                    new_memory.append({'vector': best_clone['vector'], 'label': label})\n",
    "                else:\n",
    "                    new_memory.append(bmu)\n",
    "\n",
    "            self.memory_cells = new_memory\n",
    "        return self\n",
    "\n",
    "    def predict(self, X):\n",
    "        preds = []\n",
    "        for x in X:\n",
    "            bmu = max(self.memory_cells, key=lambda ab: -np.linalg.norm(ab['vector'] - x))\n",
    "            preds.append(bmu['label'])\n",
    "        return np.array(preds)\n",
    "model = ArtificialImmuneClassifier(n_clones=10, mutation_rate=0.05, n_generations=20)\n",
    "model.fit(X_train, y_train)\n",
    "y_pred = model.predict(X_test)\n",
    "\n",
    "acc = accuracy_score(y_test, y_pred)\n",
    "print(\"Test Accuracy:\", acc)\n",
    "\n",
    "cm = confusion_matrix(y_test, y_pred)\n",
    "print(\"Confusion Matrix:\\n\", cm)"
   ]
  },
  {
   "cell_type": "code",
   "execution_count": 21,
   "id": "0155e9e7-f184-4d25-9a87-7f1c7d422150",
   "metadata": {},
   "outputs": [
    {
     "data": {
      "image/png": "[encoded data removed]",
      "text/plain": [
       "<Figure size 500x400 with 2 Axes>"
      ]
     },
     "metadata": {},
     "output_type": "display_data"
    }
   ],
   "source": [
    "import seaborn as sns\n",
    "\n",
    "plt.figure(figsize=(5, 4))\n",
    "sns.heatmap(cm, annot=True, fmt='d', cmap='Blues', xticklabels=['No Damage', 'Damage'], yticklabels=['No Damage', 'Damage'])\n",
    "plt.title('Structural Damage Classification')\n",
    "plt.xlabel('Predicted')\n",
    "plt.ylabel('Actual')\n",
    "plt.show()"
   ]
  },
  {
   "cell_type": "code",
   "execution_count": null,
   "id": "a9ef70a1-0b17-4461-b775-e31f5ca194a9",
   "metadata": {},
   "outputs": [],
   "source": []
  }
 ],
 "metadata": {
  "kernelspec": {
   "display_name": "Python 3 (ipykernel)",
   "language": "python",
   "name": "python3"
  },
  "language_info": {
   "codemirror_mode": {
    "name": "ipython",
    "version": 3
   },
   "file_extension": ".py",
   "mimetype": "text/x-python",
   "name": "python",
   "nbconvert_exporter": "python",
   "pygments_lexer": "ipython3",
   "version": "3.12.4"
  }
 },
 "nbformat": 4,
 "nbformat_minor": 5
}
