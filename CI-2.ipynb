{
 "cells": [
  {
   "cell_type": "code",
   "execution_count": 1,
   "id": "38b0eb66-bb53-4ee5-b2a6-a2f594274f04",
   "metadata": {},
   "outputs": [],
   "source": [
    "#Design a distributed application using RMI for remote computation where client submits two strings to the server and server returns the concatenation of the givenstrings."
   ]
  },
  {
   "cell_type": "code",
   "execution_count": 3,
   "id": "5e0318f7-8877-4b9a-975d-c2fb15318834",
   "metadata": {},
   "outputs": [
    {
     "name": "stdout",
     "output_type": "stream",
     "text": [
      "Requirement already satisfied: Pyro5 in c:\\users\\dell\\anaconda3\\lib\\site-packages (5.15)\n",
      "Requirement already satisfied: serpent>=1.41 in c:\\users\\dell\\anaconda3\\lib\\site-packages (from Pyro5) (1.41)\n"
     ]
    },
    {
     "name": "stderr",
     "output_type": "stream",
     "text": [
      "\n",
      "[notice] A new release of pip is available: 24.3.1 -> 25.0.1\n",
      "[notice] To update, run: python.exe -m pip install --upgrade pip\n"
     ]
    }
   ],
   "source": [
    "!pip install Pyro5"
   ]
  },
  {
   "cell_type": "code",
   "execution_count": null,
   "id": "16c51852-5540-44e4-b32e-8346ebce0882",
   "metadata": {},
   "outputs": [
    {
     "name": "stdout",
     "output_type": "stream",
     "text": [
      "Server is running. URI: PYRO:string.service@localhost:53990\n"
     ]
    }
   ],
   "source": [
    "# Server Code: string_server.py\n",
    "\n",
    "import Pyro5.api\n",
    "\n",
    "@Pyro5.api.expose\n",
    "class StringService:\n",
    "    def concatenate(self, str1, str2):\n",
    "        return str1 + str2\n",
    "\n",
    "# Start the Pyro5 Daemon\n",
    "def main():\n",
    "    daemon = Pyro5.server.Daemon()\n",
    "    uri = daemon.register(StringService, \"string.service\")\n",
    "    print(\"Server is running. URI:\", uri)\n",
    "    daemon.requestLoop()\n",
    "\n",
    "# Uncomment this to run in script mode\n",
    "if __name__ == \"__main__\":\n",
    "    main()"
   ]
  },
  {
   "cell_type": "code",
   "execution_count": null,
   "id": "71b7bbc9-8f76-4cfd-9a64-cc33f23db265",
   "metadata": {},
   "outputs": [],
   "source": [
    "# Client Code\n",
    "\n",
    "import Pyro5.api\n",
    "\n",
    "# Connect to the server\n",
    "uri = \"PYRO:string.service@localhost:51997\"  # Update if needed\n",
    "try:\n",
    "    string_service = Pyro5.api.Proxy(uri)\n",
    "\n",
    "    # Inputs\n",
    "    str1 = input(\"Enter first string: \")\n",
    "    str2 = input(\"Enter second string: \")\n",
    "\n",
    "    # Remote method call\n",
    "    result = string_service.concatenate(str1, str2)\n",
    "    print(\"Concatenated String:\", result)\n",
    "\n",
    "except Exception as e:\n",
    "    print(\"Error:\", e)"
   ]
  },
  {
   "cell_type": "code",
   "execution_count": null,
   "id": "89fb17ee-b7a7-4aee-8829-6634383d133c",
   "metadata": {},
   "outputs": [],
   "source": []
  },
  {
   "cell_type": "code",
   "execution_count": null,
   "id": "7d3b72e2-3b80-49ec-9ee0-187a29a8c041",
   "metadata": {},
   "outputs": [],
   "source": []
  }
 ],
 "metadata": {
  "kernelspec": {
   "display_name": "Python 3 (ipykernel)",
   "language": "python",
   "name": "python3"
  },
  "language_info": {
   "codemirror_mode": {
    "name": "ipython",
    "version": 3
   },
   "file_extension": ".py",
   "mimetype": "text/x-python",
   "name": "python",
   "nbconvert_exporter": "python",
   "pygments_lexer": "ipython3",
   "version": "3.12.4"
  }
 },
 "nbformat": 4,
 "nbformat_minor": 5
}
