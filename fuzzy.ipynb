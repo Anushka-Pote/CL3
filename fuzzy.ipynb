{
 "cells": [
  {
   "cell_type": "code",
   "execution_count": 1,
   "id": "8593a846-bce2-4a5d-8a3c-84172cff3f99",
   "metadata": {},
   "outputs": [],
   "source": [
    "# Design and implement Implement Union, Intersection, Complement and Difference operations on fuzzy sets.\n",
    "# Also create fuzzy relations by Cartesian product of any two fuzzy sets and perform max-min composition on\n",
    "# any two fuzzy relations."
   ]
  },
  {
   "cell_type": "code",
   "execution_count": 3,
   "id": "a08914a5-c33b-4a82-843e-75da97e42353",
   "metadata": {},
   "outputs": [],
   "source": [
    "import numpy as np\n",
    "def fuzzy_union(A, B):\n",
    "    return np.maximum(A, B)\n",
    "\n",
    "def fuzzy_intersection(A, B):\n",
    "    return np.minimum(A, B)\n",
    "\n",
    "def fuzzy_complement(A):\n",
    "    return 1 - A\n",
    "\n",
    "def fuzzy_difference(A, B):\n",
    "    return np.minimum(A, 1 - B)"
   ]
  },
  {
   "cell_type": "code",
   "execution_count": 5,
   "id": "1e172bbf-53c0-4abd-a6b5-1cc6b66d155b",
   "metadata": {},
   "outputs": [],
   "source": [
    "def cartesian_product(A, B):\n",
    "    return np.outer(A, B)\n",
    "\n",
    "def max_min_composition(R, S):\n",
    "    return np.max(np.minimum(R[:, np.newaxis, :], S[np.newaxis, :, :]), axis=2)"
   ]
  },
  {
   "cell_type": "code",
   "execution_count": 7,
   "id": "0ad6ef63-cf72-4cb6-b000-e1e563457a21",
   "metadata": {},
   "outputs": [
    {
     "name": "stdout",
     "output_type": "stream",
     "text": [
      "Union: [0.3 0.6 0.8]\n",
      "Intersection: [0.2 0.5 0.7]\n",
      "Complement of A: [0.8 0.5 0.2]\n",
      "Difference A - B: [0.2 0.4 0.3]\n"
     ]
    }
   ],
   "source": [
    "# Define two fuzzy sets\n",
    "A = np.array([0.2, 0.5, 0.8])\n",
    "B = np.array([0.3, 0.6, 0.7])\n",
    "\n",
    "# Perform operations\n",
    "union_result = fuzzy_union(A, B)\n",
    "intersection_result = fuzzy_intersection(A, B)\n",
    "complement_A = fuzzy_complement(A)\n",
    "difference_A_B = fuzzy_difference(A, B)\n",
    "\n",
    "# Display results\n",
    "print(\"Union:\", union_result)\n",
    "print(\"Intersection:\", intersection_result)\n",
    "print(\"Complement of A:\", complement_A)\n",
    "print(\"Difference A - B:\", difference_A_B)"
   ]
  },
  {
   "cell_type": "code",
   "execution_count": 9,
   "id": "7354ef65-2592-4b78-9370-924484cdea5d",
   "metadata": {},
   "outputs": [
    {
     "name": "stdout",
     "output_type": "stream",
     "text": [
      "Fuzzy Relation R (Cartesian product of A and B):\n",
      "[[0.06 0.12 0.14]\n",
      " [0.15 0.3  0.35]\n",
      " [0.24 0.48 0.56]]\n",
      "Fuzzy Relation S (Cartesian product of C and D):\n",
      "[[0.02 0.05 0.08]\n",
      " [0.08 0.2  0.32]\n",
      " [0.18 0.45 0.72]]\n",
      "Max-Min Composition of R and S:\n",
      "[[0.08 0.14 0.14]\n",
      " [0.08 0.32 0.35]\n",
      " [0.08 0.32 0.56]]\n"
     ]
    }
   ],
   "source": [
    "# Define two fuzzy sets for Cartesian product\n",
    "C = np.array([0.1, 0.4, 0.9])\n",
    "D = np.array([0.2, 0.5, 0.8])\n",
    "\n",
    "# Create fuzzy relations using Cartesian product\n",
    "R = cartesian_product(A, B)\n",
    "S = cartesian_product(C, D)\n",
    "\n",
    "# Perform max-min composition\n",
    "composition_result = max_min_composition(R, S)\n",
    "\n",
    "# Display results\n",
    "print(\"Fuzzy Relation R (Cartesian product of A and B):\")\n",
    "print(R)\n",
    "print(\"Fuzzy Relation S (Cartesian product of C and D):\")\n",
    "print(S)\n",
    "print(\"Max-Min Composition of R and S:\")\n",
    "print(composition_result)"
   ]
  },
  {
   "cell_type": "code",
   "execution_count": null,
   "id": "a2dc7904-7ce9-4116-b84b-a094f49e24c9",
   "metadata": {},
   "outputs": [],
   "source": []
  }
 ],
 "metadata": {
  "kernelspec": {
   "display_name": "Python 3 (ipykernel)",
   "language": "python",
   "name": "python3"
  },
  "language_info": {
   "codemirror_mode": {
    "name": "ipython",
    "version": 3
   },
   "file_extension": ".py",
   "mimetype": "text/x-python",
   "name": "python",
   "nbconvert_exporter": "python",
   "pygments_lexer": "ipython3",
   "version": "3.12.4"
  }
 },
 "nbformat": 4,
 "nbformat_minor": 5
}
