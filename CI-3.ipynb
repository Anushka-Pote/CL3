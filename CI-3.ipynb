{
 "cells": [
  {
   "cell_type": "code",
   "execution_count": 1,
   "id": "54c982c6-62b3-439f-aef8-09eadc5169a5",
   "metadata": {},
   "outputs": [],
   "source": [
    "#Title:- Distributed Application using MapReduce for Text Analysis : "
   ]
  },
  {
   "cell_type": "code",
   "execution_count": null,
   "id": "2c819cd0-26c6-4c31-94fc-4147610cedaa",
   "metadata": {},
   "outputs": [],
   "source": []
  }
 ],
 "metadata": {
  "kernelspec": {
   "display_name": "Python 3 (ipykernel)",
   "language": "python",
   "name": "python3"
  },
  "language_info": {
   "codemirror_mode": {
    "name": "ipython",
    "version": 3
   },
   "file_extension": ".py",
   "mimetype": "text/x-python",
   "name": "python",
   "nbconvert_exporter": "python",
   "pygments_lexer": "ipython3",
   "version": "3.12.4"
  }
 },
 "nbformat": 4,
 "nbformat_minor": 5
}
